{
  "cells": [
    {
      "cell_type": "markdown",
      "metadata": {
        "id": "o92NPvIPpmCv"
      },
      "source": [
        "# Use OpenRouter With OpenAI Agents SDK"
      ]
    },
    {
      "cell_type": "markdown",
      "metadata": {
        "id": "l5oT3E8gqY_O"
      },
      "source": [
        "Setup Prerequisite:\n",
        "\n",
        "1. [Signup at OpenRouter](https://openrouter.ai/)\n",
        "2. [Create an API Key](https://openrouter.ai/settings/keys)\n",
        "2. Select a Free Model (you can continue as we are using a free model here)"
      ]
    },
    {
      "cell_type": "markdown",
      "metadata": {
        "id": "-Zh5JPz1qLbD"
      },
      "source": [
        "## Free and Paid Models"
      ]
    },
    {
      "cell_type": "markdown",
      "metadata": {
        "id": "3NksiafzqSg7"
      },
      "source": [
        "The OpenRouter supports the latest DeepSeek V3 0324 and 50+ other models for free. Most of them support the defacto standard: OpenAI Chat Completion API.\n",
        "\n",
        "\n",
        "If you are using a free model variant (with an ID ending in :free), then you will be limited to 20 requests per minute and 200 requests per day.\n",
        "\n",
        "**See all Models List: https://openrouter.ai/models**\n",
        "\n",
        "Note: OpenRouter do not charge anything extra at inference time."
      ]
    },
    {
      "cell_type": "markdown",
      "metadata": {
        "id": "Krf3ozmkpsVs"
      },
      "source": [
        "## Rate Limiting and Crediting"
      ]
    },
    {
      "cell_type": "markdown",
      "metadata": {
        "id": "WhcFykdIqKI4"
      },
      "source": [
        "There are a few rate limits that apply to certain types of requests, regardless of account status:\n",
        "\n",
        "- Free limit: If you are using a free model variant (with an ID ending in :free), then you will be limited to 20 requests per minute and 200 requests per day.\n",
        "\n",
        "If your account has a negative credit balance, you may see 402 errors, including for free models. Adding credits to put your balance above zero allows you to use those models again.\n",
        "\n",
        "[Reference](https://openrouter.ai/docs/api-reference/limits)"
      ]
    },
    {
      "cell_type": "markdown",
      "metadata": {
        "id": "GqX_s5idrryf"
      },
      "source": [
        "## Install OpenAI Agents Dep."
      ]
    },
    {
      "cell_type": "code",
      "execution_count": 4,
      "metadata": {
        "id": "7teAe2rONlBe",
        "colab": {
          "base_uri": "https://localhost:8080/"
        },
        "outputId": "2c360b98-5e5c-4261-f2e4-eba2240da7b9"
      },
      "outputs": [
        {
          "output_type": "stream",
          "name": "stdout",
          "text": [
            "\u001b[?25l   \u001b[90m━━━━━━━━━━━━━━━━━━━━━━━━━━━━━━━━━━━━━━━━\u001b[0m \u001b[32m0.0/108.3 kB\u001b[0m \u001b[31m?\u001b[0m eta \u001b[36m-:--:--\u001b[0m\r\u001b[2K   \u001b[90m━━━━━━━━━━━━━━━━━━━━━━━━━━━━━━━━━━━━━━━━\u001b[0m \u001b[32m108.3/108.3 kB\u001b[0m \u001b[31m6.7 MB/s\u001b[0m eta \u001b[36m0:00:00\u001b[0m\n",
            "\u001b[?25h\u001b[?25l   \u001b[90m━━━━━━━━━━━━━━━━━━━━━━━━━━━━━━━━━━━━━━━━\u001b[0m \u001b[32m0.0/129.2 kB\u001b[0m \u001b[31m?\u001b[0m eta \u001b[36m-:--:--\u001b[0m\r\u001b[2K   \u001b[90m━━━━━━━━━━━━━━━━━━━━━━━━━━━━━━━━━━━━━━━━\u001b[0m \u001b[32m129.2/129.2 kB\u001b[0m \u001b[31m6.9 MB/s\u001b[0m eta \u001b[36m0:00:00\u001b[0m\n",
            "\u001b[2K   \u001b[90m━━━━━━━━━━━━━━━━━━━━━━━━━━━━━━━━━━━━━━━━\u001b[0m \u001b[32m76.1/76.1 kB\u001b[0m \u001b[31m3.0 MB/s\u001b[0m eta \u001b[36m0:00:00\u001b[0m\n",
            "\u001b[2K   \u001b[90m━━━━━━━━━━━━━━━━━━━━━━━━━━━━━━━━━━━━━━━━\u001b[0m \u001b[32m44.4/44.4 kB\u001b[0m \u001b[31m2.3 MB/s\u001b[0m eta \u001b[36m0:00:00\u001b[0m\n",
            "\u001b[2K   \u001b[90m━━━━━━━━━━━━━━━━━━━━━━━━━━━━━━━━━━━━━━━━\u001b[0m \u001b[32m72.0/72.0 kB\u001b[0m \u001b[31m4.0 MB/s\u001b[0m eta \u001b[36m0:00:00\u001b[0m\n",
            "\u001b[2K   \u001b[90m━━━━━━━━━━━━━━━━━━━━━━━━━━━━━━━━━━━━━━━━\u001b[0m \u001b[32m62.5/62.5 kB\u001b[0m \u001b[31m3.6 MB/s\u001b[0m eta \u001b[36m0:00:00\u001b[0m\n",
            "\u001b[?25h"
          ]
        }
      ],
      "source": [
        "!pip install -Uq openai-agents"
      ]
    },
    {
      "cell_type": "code",
      "execution_count": 5,
      "metadata": {
        "id": "z3_PWpn4OIyT"
      },
      "outputs": [],
      "source": [
        "import nest_asyncio\n",
        "nest_asyncio.apply()"
      ]
    },
    {
      "cell_type": "markdown",
      "metadata": {
        "id": "ZTOibVJuN_pi"
      },
      "source": [
        "## Provider Config"
      ]
    },
    {
      "cell_type": "code",
      "execution_count": 6,
      "metadata": {
        "id": "zvmgohqY0-Wm"
      },
      "outputs": [],
      "source": [
        "from google.colab import userdata\n",
        "\n",
        "OPENROUTER_API_KEY = userdata.get(\"OPENROUTER_API_KEY\")"
      ]
    },
    {
      "cell_type": "code",
      "execution_count": 12,
      "metadata": {
        "id": "DeTqCZKGlVk_"
      },
      "outputs": [],
      "source": [
        "#Reference: https://openrouter.ai/docs/quickstart\n",
        "\n",
        "BASE_URL = \"https://openrouter.ai/api/v1\"\n",
        "MODEL = \"deepseek/deepseek-chat-v3-0324:free\"\n",
        "\n",
        "# Some other free models on 26th March:\n",
        "# https://openrouter.ai/deepseek/deepseek-chat-v3-0324:free\n",
        "# https://openrouter.ai/google/gemini-2.5-pro-exp-03-25:free"
      ]
    },
    {
      "cell_type": "markdown",
      "metadata": {
        "id": "IyWF4XNPtI7f"
      },
      "source": [
        "## 1. Using the OpenRouter API directly"
      ]
    },
    {
      "cell_type": "code",
      "execution_count": 14,
      "metadata": {
        "colab": {
          "base_uri": "https://localhost:8080/",
          "height": 183
        },
        "id": "e0if6eGutM9h",
        "outputId": "81a53e0d-a721-4cd3-b4e6-7c4862b6996d"
      },
      "outputs": [
        {
          "output_type": "error",
          "ename": "AttributeError",
          "evalue": "module 'rich' has no attribute 'response'",
          "traceback": [
            "\u001b[0;31m---------------------------------------------------------------------------\u001b[0m",
            "\u001b[0;31mAttributeError\u001b[0m                            Traceback (most recent call last)",
            "\u001b[0;32m<ipython-input-14-c68cd33e0ec5>\u001b[0m in \u001b[0;36m<cell line: 0>\u001b[0;34m()\u001b[0m\n\u001b[1;32m     19\u001b[0m )\n\u001b[1;32m     20\u001b[0m \u001b[0;34m\u001b[0m\u001b[0m\n\u001b[0;32m---> 21\u001b[0;31m \u001b[0mprint\u001b[0m\u001b[0;34m(\u001b[0m\u001b[0mrich\u001b[0m\u001b[0;34m.\u001b[0m\u001b[0mresponse\u001b[0m\u001b[0;34m.\u001b[0m\u001b[0mjson\u001b[0m\u001b[0;34m(\u001b[0m\u001b[0;34m)\u001b[0m\u001b[0;34m)\u001b[0m\u001b[0;34m\u001b[0m\u001b[0;34m\u001b[0m\u001b[0m\n\u001b[0m",
            "\u001b[0;31mAttributeError\u001b[0m: module 'rich' has no attribute 'response'"
          ]
        }
      ],
      "source": [
        "import requests\n",
        "import json\n",
        "import rich\n",
        "\n",
        "response = requests.post(\n",
        "  url=f\"{BASE_URL}/chat/completions\",\n",
        "  headers={\n",
        "    \"Authorization\": f\"Bearer {OPENROUTER_API_KEY}\",\n",
        "  },\n",
        "  data=json.dumps({\n",
        "    \"model\": MODEL,\n",
        "    \"messages\": [\n",
        "      {\n",
        "        \"role\": \"user\",\n",
        "        \"content\": \"What is the meaning of life?\"\n",
        "      }\n",
        "    ]\n",
        "  })\n",
        ")\n",
        "\n",
        "answer=rich.response\n",
        "#print(response.json())\n",
        "print(answer)"
      ]
    },
    {
      "cell_type": "code",
      "execution_count": null,
      "metadata": {
        "id": "mv3B6_oRto5S"
      },
      "outputs": [],
      "source": [
        "data = response.json()\n",
        "data['choices'][0]['message']['content']"
      ]
    },
    {
      "cell_type": "markdown",
      "metadata": {
        "id": "E_jESzWAsu91"
      },
      "source": [
        "## 2. Using OpenAI Agents SDK"
      ]
    },
    {
      "cell_type": "code",
      "execution_count": null,
      "metadata": {
        "colab": {
          "base_uri": "https://localhost:8080/"
        },
        "id": "QA4vWqtvN6wm",
        "outputId": "06f541a6-931e-491c-a586-3b1f4a860f87"
      },
      "outputs": [
        {
          "name": "stdout",
          "output_type": "stream",
          "text": [
            "A function calls self,\n",
            "Breaking tasks into smaller,\n",
            "Until base is reached.\n",
            "\n"
          ]
        }
      ],
      "source": [
        "import asyncio\n",
        "from openai import AsyncOpenAI\n",
        "from agents import Agent, OpenAIChatCompletionsModel, Runner, set_tracing_disabled\n",
        "\n",
        "client = AsyncOpenAI(\n",
        "    api_key=OPENROUTER_API_KEY,\n",
        "    base_url=BASE_URL\n",
        ")\n",
        "\n",
        "set_tracing_disabled(disabled=True)\n",
        "\n",
        "async def main():\n",
        "    # This agent will use the custom LLM provider\n",
        "    agent = Agent(\n",
        "        name=\"Assistant\",\n",
        "        instructions=\"You only respond in haikus.\",\n",
        "        model=OpenAIChatCompletionsModel(model=MODEL, openai_client=client),\n",
        "    )\n",
        "\n",
        "    result = await Runner.run(\n",
        "        agent,\n",
        "        \"Tell me about recursion in programming.\",\n",
        "    )\n",
        "    print(result.final_output)\n",
        "\n",
        "\n",
        "if __name__ == \"__main__\":\n",
        "    asyncio.run(main())"
      ]
    },
    {
      "cell_type": "markdown",
      "metadata": {
        "id": "zisGQMQMx9I7"
      },
      "source": [
        "# OpenRouter 404 Error Solution\n",
        "\n",
        "## Error - No endpoints found matching\n",
        "```python\n",
        "NotFoundError: Error code: 404 - {'error': {'message': 'No endpoints found matching your data policy. Enable prompt training here: https://openrouter.ai/settings/privacy', 'code': 404}}\n",
        "```\n",
        "\n",
        "## Cause\n",
        "This error occurs when OpenRouter API can't find endpoints matching your data policy, typically because prompt training is disabled.\n",
        "\n",
        "## Solution\n",
        "\n",
        "1. **Enable Prompt Training**:\n",
        "   - Visit [OpenRouter Privacy Settings](https://openrouter.ai/settings/privacy)\n",
        "   - Toggle ON \"Prompt Training\" option\n",
        "\n",
        "2. **Re-run your code** after enabling\n",
        "\n",
        "![OpenRouter Settings Screenshot](https://github.com/panaversity/learn-agentic-ai/blob/main/01_ai_agents_first/02_openrouter/openrouter.png?raw=1)\n",
        "*(Example: Enable prompt training in privacy settings)*\n",
        "\n",
        "## Prevention\n",
        "Keep prompt training enabled for uninterrupted API access.\n",
        "```"
      ]
    }
  ],
  "metadata": {
    "colab": {
      "provenance": []
    },
    "kernelspec": {
      "display_name": "Python 3",
      "name": "python3"
    },
    "language_info": {
      "name": "python"
    }
  },
  "nbformat": 4,
  "nbformat_minor": 0
}